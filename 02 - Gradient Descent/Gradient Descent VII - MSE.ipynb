{
 "cells": [
  {
   "cell_type": "markdown",
   "metadata": {},
   "source": [
    "## Mean Squared Error: a cost function for regression problems"
   ]
  },
  {
   "cell_type": "markdown",
   "metadata": {},
   "source": [
    "### $RSS = \\sum_{i=1}^{n} \\big( y^{(i)} - h_\\theta x^{(i)} \\big)^2$"
   ]
  },
  {
   "cell_type": "markdown",
   "metadata": {},
   "source": [
    "$MSE = \\frac{1}{n} \\sum_{i=1}^n \\big( y^{(i)} - h_\\theta x^{(i)} \\big)^2$"
   ]
  },
  {
   "cell_type": "markdown",
   "metadata": {},
   "source": [
    "$MSE = \\frac{1}{n} \\sum_{i=1}^n \\big( y - \\hat{y} \\big)^2$"
   ]
  },
  {
   "cell_type": "code",
   "execution_count": 23,
   "metadata": {},
   "outputs": [],
   "source": [
    "import numpy as np\n",
    "import matplotlib.pyplot as plt\n",
    "from sklearn.linear_model import LinearRegression\n",
    "from sklearn.metrics import mean_squared_error"
   ]
  },
  {
   "cell_type": "code",
   "execution_count": 15,
   "metadata": {},
   "outputs": [
    {
     "name": "stdout",
     "output_type": "stream",
     "text": [
      "Shape of x_5 array: (7, 1)\n",
      "Shape of y_5 array: (7, 1)\n"
     ]
    }
   ],
   "source": [
    "# make sample data\n",
    "x_5 = np.array([[0.1, 1.2, 2.4, 3.2, 4.1, 5.7, 6.5]]).transpose()\n",
    "y_5 = np.array([1.7, 2.4, 3.5, 3.0, 6.1, 9.4, 8.2]).reshape(7, 1)\n",
    "\n",
    "print('Shape of x_5 array:', x_5.shape)\n",
    "print('Shape of y_5 array:', y_5.shape)"
   ]
  },
  {
   "cell_type": "code",
   "execution_count": 19,
   "metadata": {},
   "outputs": [
    {
     "name": "stdout",
     "output_type": "stream",
     "text": [
      "Theta 0: 0.8475351486029536\n",
      "Theta 1: 1.2227264637835915\n"
     ]
    }
   ],
   "source": [
    "# quick linear regression\n",
    "regr = LinearRegression()\n",
    "regr.fit(x_5, y_5)\n",
    "theta0 = regr.intercept_[0]\n",
    "theta1 = regr.coef_[0][0]\n",
    "print('Theta 0:', regr.intercept_[0])\n",
    "print('Theta 1:', regr.coef_[0][0])"
   ]
  },
  {
   "cell_type": "code",
   "execution_count": 17,
   "metadata": {},
   "outputs": [
    {
     "data": {
      "image/png": "[encoded data removed]",
      "text/plain": [
       "<Figure size 432x288 with 1 Axes>"
      ]
     },
     "metadata": {
      "needs_background": "light"
     },
     "output_type": "display_data"
    }
   ],
   "source": [
    "plt.scatter(x_5, y_5, s=50)\n",
    "plt.plot(x_5, regr.predict(x_5), color='orange', linewidth=3)\n",
    "plt.xlabel('x values')\n",
    "plt.ylabel('y values')\n",
    "plt.show()"
   ]
  },
  {
   "cell_type": "code",
   "execution_count": 20,
   "metadata": {},
   "outputs": [
    {
     "name": "stdout",
     "output_type": "stream",
     "text": [
      "Est values y_hat are: \n",
      " [[0.96980779]\n",
      " [2.31480691]\n",
      " [3.78207866]\n",
      " [4.76025983]\n",
      " [5.86071365]\n",
      " [7.81707599]\n",
      " [8.79525716]]\n",
      "In comparison, the actual y values are \n",
      " [[1.7]\n",
      " [2.4]\n",
      " [3.5]\n",
      " [3. ]\n",
      " [6.1]\n",
      " [9.4]\n",
      " [8.2]]\n"
     ]
    }
   ],
   "source": [
    "# y_hat = theta0 + theta1*x\n",
    "y_hat = theta0 + theta1 * x_5\n",
    "print('Est values y_hat are: \\n', y_hat)\n",
    "print('In comparison, the actual y values are \\n', y_5)"
   ]
  },
  {
   "cell_type": "code",
   "execution_count": 25,
   "metadata": {},
   "outputs": [],
   "source": [
    "def mse(y, y_hat):\n",
    "    #mse_calc = 1/7 * sum((y - y_hat)**2)\n",
    "    #mse_calc = (1/y.size) * sum((y - y_hat)**2)\n",
    "    mse_calc = np.average((y - y_hat)**2, axis=0)\n",
    "    return mse_calc"
   ]
  },
  {
   "cell_type": "code",
   "execution_count": 27,
   "metadata": {},
   "outputs": [
    {
     "name": "stdout",
     "output_type": "stream",
     "text": [
      "Manually calculated MSE is [0.94796558]\n",
      "MSE regression using manual calc is 0.9479655759794577\n",
      "MSE regression is 0.9479655759794577\n"
     ]
    }
   ],
   "source": [
    "print('Manually calculated MSE is', mse(y_5, y_hat))\n",
    "print('MSE regression using manual calc is', mean_squared_error(y_5, y_hat))\n",
    "print('MSE regression is', mean_squared_error(y_5, regr.predict(x_5)))"
   ]
  },
  {
   "cell_type": "code",
   "execution_count": null,
   "metadata": {},
   "outputs": [],
   "source": []
  }
 ],
 "metadata": {
  "kernelspec": {
   "display_name": "Python 3",
   "language": "python",
   "name": "python3"
  },
  "language_info": {
   "codemirror_mode": {
    "name": "ipython",
    "version": 3
   },
   "file_extension": ".py",
   "mimetype": "text/x-python",
   "name": "python",
   "nbconvert_exporter": "python",
   "pygments_lexer": "ipython3",
   "version": "3.8.5"
  }
 },
 "nbformat": 4,
 "nbformat_minor": 4
}
