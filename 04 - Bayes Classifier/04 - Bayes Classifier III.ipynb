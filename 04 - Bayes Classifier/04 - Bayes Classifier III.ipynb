{
 "cells": [
  {
   "cell_type": "code",
   "execution_count": 22,
   "metadata": {},
   "outputs": [],
   "source": [
    "import pandas as pd\n",
    "import numpy as np\n",
    "\n",
    "# import nltk\n",
    "import nltk\n",
    "from nltk.stem import PorterStemmer\n",
    "from nltk.stem import SnowballStemmer\n",
    "from nltk.corpus import stopwords\n",
    "from nltk.tokenize import word_tokenize\n",
    "\n",
    "from bs4 import BeautifulSoup\n",
    "\n",
    "%matplotlib inline"
   ]
  },
  {
   "cell_type": "code",
   "execution_count": 37,
   "metadata": {},
   "outputs": [
    {
     "data": {
      "text/plain": [
       "'ATTENTION: This is a MUST for ALL Computer Users!!!\\n\\n\\n\\n*NEW-Special Package Deal!*\\n\\n\\n\\nNorton SystemWorks 2002 Software Suite -Professional Edition-\\n\\n\\n\\nIncludes Six - Yes 6! - Feature-Packed Utilities\\n\\nALL For 1 Special LOW Price!\\n\\n\\n\\nThis Software Will:\\n\\n- Protect your computer from unwanted and hazardous viruses\\n\\n- Help secure your private & valuable information\\n\\n- Allow you to transfer files and send e-mails safely\\n\\n- Backup your ALL your data quick and easily\\n\\n- Improve your PC\\'s performance w/superior integral diagnostics!\\n\\n\\n\\n6 Feature-Packed Utilities...1 Great Price!\\n\\nA $300+ Combined Retail Value!\\n\\n\\n\\nYOURS for Only $29.99!  <Includes FREE Shipping!>\\n\\n\\n\\nDon\\'t fall prey to destructive viruses or hackers!\\n\\nProtect  your computer and your valuable information!\\n\\n\\n\\n\\n\\nSo don\\'t delay...get your copy TODAY!\\n\\n\\n\\n\\n\\nhttp://euro.specialdiscounts4u.com/\\n\\n++++++++++++++++++++++++++++++++++++++++++++++++++++++++++++++++++++++++++++\\n\\nThis email has been screened and filtered by our in house \"\"OPT-OUT\"\" system in \\n\\ncompliance with state laws. If you wish to \"OPT-OUT\" from this mailing as well \\n\\nas the lists of thousands  of other email providers please visit  \\n\\n\\n\\nhttp://dvd.specialdiscounts4u.com/optoutd.html\\n\\n++++++++++++++++++++++++++++++++++++++++++++++++++++++++++++++++++++++++++++\\n\\n\\n\\n\\n'"
      ]
     },
     "execution_count": 37,
     "metadata": {},
     "output_type": "execute_result"
    }
   ],
   "source": [
    "DATA_JSON_FILE = 'SpamData/01_Processing/email-text-data.json'\n",
    "data = pd.read_json(DATA_JSON_FILE)\n",
    "data.MESSAGE[1]"
   ]
  },
  {
   "cell_type": "markdown",
   "metadata": {},
   "source": [
    "## Natural Language Processing"
   ]
  },
  {
   "cell_type": "markdown",
   "metadata": {},
   "source": [
    "### Download the NLTK Resources"
   ]
  },
  {
   "cell_type": "code",
   "execution_count": 5,
   "metadata": {},
   "outputs": [
    {
     "name": "stderr",
     "output_type": "stream",
     "text": [
      "[nltk_data] Downloading package punkt to /Users/basti/nltk_data...\n",
      "[nltk_data]   Package punkt is already up-to-date!\n"
     ]
    },
    {
     "data": {
      "text/plain": [
       "True"
      ]
     },
     "execution_count": 5,
     "metadata": {},
     "output_type": "execute_result"
    }
   ],
   "source": [
    "nltk.download('punkt')"
   ]
  },
  {
   "cell_type": "code",
   "execution_count": 6,
   "metadata": {},
   "outputs": [
    {
     "name": "stderr",
     "output_type": "stream",
     "text": [
      "[nltk_data] Downloading package stopwords to /Users/basti/nltk_data...\n",
      "[nltk_data]   Unzipping corpora/stopwords.zip.\n"
     ]
    },
    {
     "data": {
      "text/plain": [
       "True"
      ]
     },
     "execution_count": 6,
     "metadata": {},
     "output_type": "execute_result"
    }
   ],
   "source": [
    "nltk.download('stopwords')"
   ]
  },
  {
   "cell_type": "code",
   "execution_count": 7,
   "metadata": {},
   "outputs": [
    {
     "data": {
      "text/plain": [
       "['all', 'work', 'and', 'no', 'play', 'makes', 'jack', 'a', 'dull', 'boy', '.']"
      ]
     },
     "execution_count": 7,
     "metadata": {},
     "output_type": "execute_result"
    }
   ],
   "source": [
    "msg = 'All work and no play makes Jack a dull boy.'\n",
    "word_tokenize(msg.lower())"
   ]
  },
  {
   "cell_type": "code",
   "execution_count": 17,
   "metadata": {},
   "outputs": [
    {
     "name": "stdout",
     "output_type": "stream",
     "text": [
      "['work', 'play', 'makes', 'jack', 'dull', 'boy', '.']\n"
     ]
    }
   ],
   "source": [
    "stop_words = set(stopwords.words('english'))\n",
    "words = word_tokenize(msg.lower())\n",
    "filtered_words = []\n",
    "\n",
    "for word in words:\n",
    "    if word not in stop_words:\n",
    "        filtered_words.append(word)\n",
    "\n",
    "print(filtered_words)"
   ]
  },
  {
   "cell_type": "code",
   "execution_count": 21,
   "metadata": {},
   "outputs": [
    {
     "name": "stdout",
     "output_type": "stream",
     "text": [
      "['work', 'play', 'make', 'jack', 'dull', 'boy', 'nobodi', 'expect', 'spanish', 'inquisit']\n"
     ]
    }
   ],
   "source": [
    "msg = 'All work and no play makes Jack a dull boy. Nobody expects the Spanish Inquisition!'\n",
    "\n",
    "stop_words = set(stopwords.words('english'))\n",
    "words = word_tokenize(msg.lower())\n",
    "stemmer = SnowballStemmer('english')\n",
    "\n",
    "filtered_words = []\n",
    "\n",
    "for word in words:\n",
    "    if word not in stop_words and word.isalpha():\n",
    "        stemmed_word = stemmer.stem(word)\n",
    "        filtered_words.append(stemmed_word)\n",
    "\n",
    "print(filtered_words)"
   ]
  },
  {
   "cell_type": "markdown",
   "metadata": {},
   "source": [
    "### Removing HTML from emails"
   ]
  },
  {
   "cell_type": "code",
   "execution_count": 28,
   "metadata": {},
   "outputs": [],
   "source": [
    "# soup = BeautifulSoup(data.at[0, 'MESSAGE'], 'html.parser')"
   ]
  },
  {
   "cell_type": "markdown",
   "metadata": {},
   "source": [
    "### Functions for email Processing"
   ]
  },
  {
   "cell_type": "code",
   "execution_count": 40,
   "metadata": {},
   "outputs": [],
   "source": [
    "def clean_message(message, stemmer=PorterStemmer(), stop_words=set(stopwords.words('english'))):\n",
    "    \n",
    "    # Remove HTML tags\n",
    "    soup = BeautifulSoup(message, 'html.parser')\n",
    "    cleaned_text = soup.get_text()\n",
    "    \n",
    "    # Converts to lower case and splits up the words\n",
    "    words = word_tokenize(cleaned_text.lower())\n",
    "    \n",
    "    filtered_words = []\n",
    "    \n",
    "    for word in words:\n",
    "        # Removes the stop words and punctuation\n",
    "        if word not in stop_words and word.isalpha():\n",
    "            filtered_words.append(stemmer.stem(word))\n",
    "            \n",
    "    return filtered_words"
   ]
  },
  {
   "cell_type": "code",
   "execution_count": 41,
   "metadata": {},
   "outputs": [
    {
     "data": {
      "text/plain": [
       "['attent',\n",
       " 'must',\n",
       " 'comput',\n",
       " 'user',\n",
       " 'packag',\n",
       " 'deal',\n",
       " 'norton',\n",
       " 'systemwork',\n",
       " 'softwar',\n",
       " 'suit',\n",
       " 'includ',\n",
       " 'six',\n",
       " 'ye',\n",
       " 'util',\n",
       " 'special',\n",
       " 'low',\n",
       " 'price',\n",
       " 'softwar',\n",
       " 'protect',\n",
       " 'comput',\n",
       " 'unwant',\n",
       " 'hazard',\n",
       " 'virus',\n",
       " 'help',\n",
       " 'secur',\n",
       " 'privat',\n",
       " 'valuabl',\n",
       " 'inform',\n",
       " 'allow',\n",
       " 'transfer',\n",
       " 'file',\n",
       " 'send',\n",
       " 'safe',\n",
       " 'backup',\n",
       " 'data',\n",
       " 'quick',\n",
       " 'easili',\n",
       " 'improv',\n",
       " 'pc',\n",
       " 'perform',\n",
       " 'integr',\n",
       " 'diagnost',\n",
       " 'util',\n",
       " 'great',\n",
       " 'price',\n",
       " 'combin',\n",
       " 'retail',\n",
       " 'valu',\n",
       " 'fall',\n",
       " 'prey',\n",
       " 'destruct',\n",
       " 'virus',\n",
       " 'hacker',\n",
       " 'protect',\n",
       " 'comput',\n",
       " 'valuabl',\n",
       " 'inform',\n",
       " 'delay',\n",
       " 'get',\n",
       " 'copi',\n",
       " 'today',\n",
       " 'http',\n",
       " 'email',\n",
       " 'screen',\n",
       " 'filter',\n",
       " 'hous',\n",
       " 'system',\n",
       " 'complianc',\n",
       " 'state',\n",
       " 'law',\n",
       " 'wish',\n",
       " 'mail',\n",
       " 'well',\n",
       " 'list',\n",
       " 'thousand',\n",
       " 'email',\n",
       " 'provid',\n",
       " 'pleas',\n",
       " 'visit',\n",
       " 'http']"
      ]
     },
     "execution_count": 41,
     "metadata": {},
     "output_type": "execute_result"
    }
   ],
   "source": [
    "clean_message(data.MESSAGE[1])"
   ]
  },
  {
   "cell_type": "code",
   "execution_count": 48,
   "metadata": {},
   "outputs": [
    {
     "data": {
      "text/plain": [
       "2"
      ]
     },
     "execution_count": 48,
     "metadata": {},
     "output_type": "execute_result"
    }
   ],
   "source": [
    "data.iat[2, 2]"
   ]
  },
  {
   "cell_type": "code",
   "execution_count": 49,
   "metadata": {},
   "outputs": [
    {
     "data": {
      "text/html": [
       "<div>\n",
       "<style scoped>\n",
       "    .dataframe tbody tr th:only-of-type {\n",
       "        vertical-align: middle;\n",
       "    }\n",
       "\n",
       "    .dataframe tbody tr th {\n",
       "        vertical-align: top;\n",
       "    }\n",
       "\n",
       "    .dataframe thead th {\n",
       "        text-align: right;\n",
       "    }\n",
       "</style>\n",
       "<table border=\"1\" class=\"dataframe\">\n",
       "  <thead>\n",
       "    <tr style=\"text-align: right;\">\n",
       "      <th></th>\n",
       "      <th>MESSAGE</th>\n",
       "      <th>CATEGORY</th>\n",
       "      <th>DOC_ID</th>\n",
       "    </tr>\n",
       "  </thead>\n",
       "  <tbody>\n",
       "    <tr>\n",
       "      <th>00249.5f45607c1bffe89f60ba1ec9f878039a</th>\n",
       "      <td>Dear Homeowner,\\n\\n \\n\\nInterest Rates are at ...</td>\n",
       "      <td>1</td>\n",
       "      <td>0</td>\n",
       "    </tr>\n",
       "    <tr>\n",
       "      <th>00373.ebe8670ac56b04125c25100a36ab0510</th>\n",
       "      <td>ATTENTION: This is a MUST for ALL Computer Use...</td>\n",
       "      <td>1</td>\n",
       "      <td>1</td>\n",
       "    </tr>\n",
       "    <tr>\n",
       "      <th>00214.1367039e50dc6b7adb0f2aa8aba83216</th>\n",
       "      <td>This is a multi-part message in MIME format.\\n...</td>\n",
       "      <td>1</td>\n",
       "      <td>2</td>\n",
       "    </tr>\n",
       "    <tr>\n",
       "      <th>00210.050ffd105bd4e006771ee63cabc59978</th>\n",
       "      <td>IMPORTANT INFORMATION:\\n\\n\\n\\nThe new domain n...</td>\n",
       "      <td>1</td>\n",
       "      <td>3</td>\n",
       "    </tr>\n",
       "    <tr>\n",
       "      <th>00033.9babb58d9298daa2963d4f514193d7d6</th>\n",
       "      <td>This is the bottom line.  If you can GIVE AWAY...</td>\n",
       "      <td>1</td>\n",
       "      <td>4</td>\n",
       "    </tr>\n",
       "  </tbody>\n",
       "</table>\n",
       "</div>"
      ],
      "text/plain": [
       "                                                                                  MESSAGE  \\\n",
       "00249.5f45607c1bffe89f60ba1ec9f878039a  Dear Homeowner,\\n\\n \\n\\nInterest Rates are at ...   \n",
       "00373.ebe8670ac56b04125c25100a36ab0510  ATTENTION: This is a MUST for ALL Computer Use...   \n",
       "00214.1367039e50dc6b7adb0f2aa8aba83216  This is a multi-part message in MIME format.\\n...   \n",
       "00210.050ffd105bd4e006771ee63cabc59978  IMPORTANT INFORMATION:\\n\\n\\n\\nThe new domain n...   \n",
       "00033.9babb58d9298daa2963d4f514193d7d6  This is the bottom line.  If you can GIVE AWAY...   \n",
       "\n",
       "                                        CATEGORY  DOC_ID  \n",
       "00249.5f45607c1bffe89f60ba1ec9f878039a         1       0  \n",
       "00373.ebe8670ac56b04125c25100a36ab0510         1       1  \n",
       "00214.1367039e50dc6b7adb0f2aa8aba83216         1       2  \n",
       "00210.050ffd105bd4e006771ee63cabc59978         1       3  \n",
       "00033.9babb58d9298daa2963d4f514193d7d6         1       4  "
      ]
     },
     "execution_count": 49,
     "metadata": {},
     "output_type": "execute_result"
    }
   ],
   "source": [
    "data.iloc[0:5]"
   ]
  },
  {
   "cell_type": "code",
   "execution_count": 50,
   "metadata": {},
   "outputs": [
    {
     "data": {
      "text/plain": [
       "00249.5f45607c1bffe89f60ba1ec9f878039a    Dear Homeowner,\\n\\n \\n\\nInterest Rates are at ...\n",
       "00373.ebe8670ac56b04125c25100a36ab0510    ATTENTION: This is a MUST for ALL Computer Use...\n",
       "00214.1367039e50dc6b7adb0f2aa8aba83216    This is a multi-part message in MIME format.\\n...\n",
       "Name: MESSAGE, dtype: object"
      ]
     },
     "execution_count": 50,
     "metadata": {},
     "output_type": "execute_result"
    }
   ],
   "source": [
    "data.MESSAGE.iloc[0:3]"
   ]
  },
  {
   "cell_type": "code",
   "execution_count": 51,
   "metadata": {},
   "outputs": [
    {
     "data": {
      "text/plain": [
       "00249.5f45607c1bffe89f60ba1ec9f878039a    [dear, homeown, interest, rate, lowest, point,...\n",
       "00373.ebe8670ac56b04125c25100a36ab0510    [attent, must, comput, user, packag, deal, nor...\n",
       "00214.1367039e50dc6b7adb0f2aa8aba83216    [messag, mime, format, dare, tri, find, better...\n",
       "Name: MESSAGE, dtype: object"
      ]
     },
     "execution_count": 51,
     "metadata": {},
     "output_type": "execute_result"
    }
   ],
   "source": [
    "first_emails = data.MESSAGE.iloc[0:3]\n",
    "\n",
    "first_emails.apply(clean_message)"
   ]
  },
  {
   "cell_type": "code",
   "execution_count": 52,
   "metadata": {},
   "outputs": [],
   "source": [
    "nested_list = first_emails.apply(clean_message)"
   ]
  },
  {
   "cell_type": "code",
   "execution_count": 53,
   "metadata": {},
   "outputs": [
    {
     "data": {
      "text/plain": [
       "222"
      ]
     },
     "execution_count": 53,
     "metadata": {},
     "output_type": "execute_result"
    }
   ],
   "source": [
    "flat_list = [item for sublist in nested_list for item in sublist]\n",
    "\n",
    "len(flat_list)"
   ]
  },
  {
   "cell_type": "code",
   "execution_count": 56,
   "metadata": {},
   "outputs": [
    {
     "name": "stderr",
     "output_type": "stream",
     "text": [
      "/Users/basti/opt/anaconda3/lib/python3.8/site-packages/bs4/__init__.py:417: MarkupResemblesLocatorWarning: \"http://www.post-gazette.com/columnists/20020905brian5\n",
      "\" looks like a URL. Beautiful Soup is not an HTTP client. You should probably use an HTTP client like requests to get the document behind the URL, and feed that document to Beautiful Soup.\n",
      "  warnings.warn(\n"
     ]
    },
    {
     "name": "stdout",
     "output_type": "stream",
     "text": [
      "CPU times: user 40.8 s, sys: 538 ms, total: 41.4 s\n",
      "Wall time: 41.9 s\n"
     ]
    }
   ],
   "source": [
    "%%time\n",
    "\n",
    "# Use apply() on all the messages in the dataframe\n",
    "nested_list = data.MESSAGE.apply(clean_message)"
   ]
  },
  {
   "cell_type": "code",
   "execution_count": 58,
   "metadata": {},
   "outputs": [
    {
     "data": {
      "text/plain": [
       "5796"
      ]
     },
     "execution_count": 58,
     "metadata": {},
     "output_type": "execute_result"
    }
   ],
   "source": [
    "len(nested_list)"
   ]
  },
  {
   "cell_type": "markdown",
   "metadata": {},
   "source": [
    "## Slicing Dataframes"
   ]
  },
  {
   "cell_type": "code",
   "execution_count": 59,
   "metadata": {},
   "outputs": [
    {
     "data": {
      "text/plain": [
       "(1896, 3)"
      ]
     },
     "execution_count": 59,
     "metadata": {},
     "output_type": "execute_result"
    }
   ],
   "source": [
    "data[data.CATEGORY == 1].shape"
   ]
  },
  {
   "cell_type": "code",
   "execution_count": 60,
   "metadata": {},
   "outputs": [
    {
     "data": {
      "text/html": [
       "<div>\n",
       "<style scoped>\n",
       "    .dataframe tbody tr th:only-of-type {\n",
       "        vertical-align: middle;\n",
       "    }\n",
       "\n",
       "    .dataframe tbody tr th {\n",
       "        vertical-align: top;\n",
       "    }\n",
       "\n",
       "    .dataframe thead th {\n",
       "        text-align: right;\n",
       "    }\n",
       "</style>\n",
       "<table border=\"1\" class=\"dataframe\">\n",
       "  <thead>\n",
       "    <tr style=\"text-align: right;\">\n",
       "      <th></th>\n",
       "      <th>MESSAGE</th>\n",
       "      <th>CATEGORY</th>\n",
       "      <th>DOC_ID</th>\n",
       "    </tr>\n",
       "  </thead>\n",
       "  <tbody>\n",
       "    <tr>\n",
       "      <th>01311.43bfe86df65d53c5f7ca2365dc12582b</th>\n",
       "      <td>&lt;!DOCTYPE HTML PUBLIC \"-//W3C//DTD HTML 4.0 Tr...</td>\n",
       "      <td>1</td>\n",
       "      <td>1893</td>\n",
       "    </tr>\n",
       "    <tr>\n",
       "      <th>00851.dc5452f80ba0bb8481dfc48f70380c4d</th>\n",
       "      <td>&lt;html&gt;\\n\\n&lt;HEAD&gt; \\n\\n&lt;TITLE&gt;creditfix&lt;/TITLE&gt; ...</td>\n",
       "      <td>1</td>\n",
       "      <td>1894</td>\n",
       "    </tr>\n",
       "    <tr>\n",
       "      <th>01328.b23902de23cb3ca1f3334517282372b2</th>\n",
       "      <td>Hello:\\n\\n\\n\\nAre you satisfied with your ISP?...</td>\n",
       "      <td>1</td>\n",
       "      <td>1895</td>\n",
       "    </tr>\n",
       "    <tr>\n",
       "      <th>01244.9ef966101737a6fc27d8965def288d70</th>\n",
       "      <td>&lt;html&gt;&lt;HEAD&gt;&lt;TITLE&gt;creditfix&lt;/TITLE&gt; \\n\\n&lt;/HEA...</td>\n",
       "      <td>1</td>\n",
       "      <td>1896</td>\n",
       "    </tr>\n",
       "    <tr>\n",
       "      <th>00788.b98a23c07d59156d172683fc29b80661</th>\n",
       "      <td>&lt;HTML&gt;&lt;HEAD&gt;&lt;/HEAD&gt;&lt;BODY&gt;&lt;b&gt;&lt;FONT SIZE=3D4&gt;In ...</td>\n",
       "      <td>1</td>\n",
       "      <td>1897</td>\n",
       "    </tr>\n",
       "  </tbody>\n",
       "</table>\n",
       "</div>"
      ],
      "text/plain": [
       "                                                                                  MESSAGE  \\\n",
       "01311.43bfe86df65d53c5f7ca2365dc12582b  <!DOCTYPE HTML PUBLIC \"-//W3C//DTD HTML 4.0 Tr...   \n",
       "00851.dc5452f80ba0bb8481dfc48f70380c4d  <html>\\n\\n<HEAD> \\n\\n<TITLE>creditfix</TITLE> ...   \n",
       "01328.b23902de23cb3ca1f3334517282372b2  Hello:\\n\\n\\n\\nAre you satisfied with your ISP?...   \n",
       "01244.9ef966101737a6fc27d8965def288d70  <html><HEAD><TITLE>creditfix</TITLE> \\n\\n</HEA...   \n",
       "00788.b98a23c07d59156d172683fc29b80661  <HTML><HEAD></HEAD><BODY><b><FONT SIZE=3D4>In ...   \n",
       "\n",
       "                                        CATEGORY  DOC_ID  \n",
       "01311.43bfe86df65d53c5f7ca2365dc12582b         1    1893  \n",
       "00851.dc5452f80ba0bb8481dfc48f70380c4d         1    1894  \n",
       "01328.b23902de23cb3ca1f3334517282372b2         1    1895  \n",
       "01244.9ef966101737a6fc27d8965def288d70         1    1896  \n",
       "00788.b98a23c07d59156d172683fc29b80661         1    1897  "
      ]
     },
     "execution_count": 60,
     "metadata": {},
     "output_type": "execute_result"
    }
   ],
   "source": [
    "data[data.CATEGORY == 1].tail()"
   ]
  },
  {
   "cell_type": "code",
   "execution_count": 67,
   "metadata": {},
   "outputs": [],
   "source": [
    "doc_ids_spam = data[data.CATEGORY == 1].DOC_ID\n",
    "doc_ids_ham = data[data.CATEGORY == 0].DOC_ID"
   ]
  },
  {
   "cell_type": "code",
   "execution_count": 69,
   "metadata": {},
   "outputs": [
    {
     "data": {
      "text/plain": [
       "pandas.core.series.Series"
      ]
     },
     "execution_count": 69,
     "metadata": {},
     "output_type": "execute_result"
    }
   ],
   "source": [
    "type(doc_ids_ham)"
   ]
  },
  {
   "cell_type": "markdown",
   "metadata": {},
   "source": [
    "## Wordcloud"
   ]
  },
  {
   "cell_type": "code",
   "execution_count": 75,
   "metadata": {},
   "outputs": [],
   "source": [
    "from wordcloud import WordCloud"
   ]
  },
  {
   "cell_type": "code",
   "execution_count": 71,
   "metadata": {},
   "outputs": [
    {
     "name": "stderr",
     "output_type": "stream",
     "text": [
      "[nltk_data] Downloading package gutenberg to /Users/basti/nltk_data...\n",
      "[nltk_data]   Unzipping corpora/gutenberg.zip.\n",
      "[nltk_data] Downloading package shakespeare to\n",
      "[nltk_data]     /Users/basti/nltk_data...\n",
      "[nltk_data]   Unzipping corpora/shakespeare.zip.\n"
     ]
    },
    {
     "data": {
      "text/plain": [
       "True"
      ]
     },
     "execution_count": 71,
     "metadata": {},
     "output_type": "execute_result"
    }
   ],
   "source": [
    "nltk.download('gutenberg')\n",
    "nltk.download('shakespeare')"
   ]
  },
  {
   "cell_type": "code",
   "execution_count": 72,
   "metadata": {},
   "outputs": [
    {
     "data": {
      "text/plain": [
       "260819"
      ]
     },
     "execution_count": 72,
     "metadata": {},
     "output_type": "execute_result"
    }
   ],
   "source": [
    "example_corpus = nltk.corpus.gutenberg.words('melville-moby_dick.txt')\n",
    "len(example_corpus)"
   ]
  },
  {
   "cell_type": "code",
   "execution_count": 73,
   "metadata": {},
   "outputs": [],
   "source": [
    "word_list = [''.join(word) for word in example_corpus]\n",
    "novel_as_string = ' '.join(word_list)"
   ]
  },
  {
   "cell_type": "code",
   "execution_count": 78,
   "metadata": {},
   "outputs": [
    {
     "data": {
      "image/png": "[encoded data removed]",
      "text/plain": [
       "<Figure size 432x288 with 1 Axes>"
      ]
     },
     "metadata": {
      "needs_background": "light"
     },
     "output_type": "display_data"
    }
   ],
   "source": [
    "word_cloud = WordCloud().generate(novel_as_string)\n",
    "plt.imshow(word_cloud, interpolation='bilinear')\n",
    "plt.axis('off')\n",
    "plt.show()"
   ]
  },
  {
   "cell_type": "code",
   "execution_count": null,
   "metadata": {},
   "outputs": [],
   "source": []
  }
 ],
 "metadata": {
  "kernelspec": {
   "display_name": "Python 3",
   "language": "python",
   "name": "python3"
  },
  "language_info": {
   "codemirror_mode": {
    "name": "ipython",
    "version": 3
   },
   "file_extension": ".py",
   "mimetype": "text/x-python",
   "name": "python",
   "nbconvert_exporter": "python",
   "pygments_lexer": "ipython3",
   "version": "3.8.5"
  }
 },
 "nbformat": 4,
 "nbformat_minor": 4
}
